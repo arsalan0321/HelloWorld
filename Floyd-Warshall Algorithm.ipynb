{
 "cells": [
  {
   "cell_type": "markdown",
   "id": "2ecf4dfe",
   "metadata": {},
   "source": [
    "# Floyd-Warshall Algorithm"
   ]
  },
  {
   "cell_type": "markdown",
   "id": "2153f894",
   "metadata": {},
   "source": [
    "### The Floyd-Warshall Algorithm is used to find the shortest paths between all pairs of vertices in a weighted graph."
   ]
  },
  {
   "cell_type": "code",
   "execution_count": 1,
   "id": "e15fdac7",
   "metadata": {},
   "outputs": [
    {
     "name": "stdout",
     "output_type": "stream",
     "text": [
      "Shortest distance from node 0 to node 0: 0\n",
      "Shortest distance from node 0 to node 1: 5\n",
      "Shortest distance from node 0 to node 2: 8\n",
      "Shortest distance from node 0 to node 3: 9\n",
      "Shortest distance from node 1 to node 0: inf\n",
      "Shortest distance from node 1 to node 1: 0\n",
      "Shortest distance from node 1 to node 2: 3\n",
      "Shortest distance from node 1 to node 3: 4\n",
      "Shortest distance from node 2 to node 0: inf\n",
      "Shortest distance from node 2 to node 1: inf\n",
      "Shortest distance from node 2 to node 2: 0\n",
      "Shortest distance from node 2 to node 3: 1\n",
      "Shortest distance from node 3 to node 0: inf\n",
      "Shortest distance from node 3 to node 1: inf\n",
      "Shortest distance from node 3 to node 2: inf\n",
      "Shortest distance from node 3 to node 3: 0\n"
     ]
    }
   ],
   "source": [
    "def floyd_warshall(graph):\n",
    "    dist = [[float('inf')] * len(graph) for _ in range(len(graph))]\n",
    "\n",
    "    for i in range(len(graph)):\n",
    "        dist[i][i] = 0\n",
    "\n",
    "    for u in range(len(graph)):\n",
    "        for v in range(len(graph)):\n",
    "            dist[u][v] = graph[u][v]\n",
    "\n",
    "    for k in range(len(graph)):\n",
    "        for i in range(len(graph)):\n",
    "            for j in range(len(graph)):\n",
    "                if dist[i][j] > dist[i][k] + dist[k][j]:\n",
    "                    dist[i][j] = dist[i][k] + dist[k][j]\n",
    "\n",
    "    return dist\n",
    "\n",
    "# Define your graph as a two-dimensional list representing weighted edges between nodes.\n",
    "# Use 'inf' for unconnected nodes and 0 for the diagonal (distance from a node to itself).\n",
    "\n",
    "# Example:\n",
    "graph = [\n",
    "    [0, 5, float('inf'), 10],\n",
    "    [float('inf'), 0, 3, float('inf')],\n",
    "    [float('inf'), float('inf'), 0, 1],\n",
    "    [float('inf'), float('inf'), float('inf'), 0]\n",
    "]\n",
    "\n",
    "# Call the Floyd-Warshall algorithm with the initialized graph.\n",
    "shortest_distances = floyd_warshall(graph)\n",
    "\n",
    "# Print the shortest distances between all pairs of nodes.\n",
    "for i in range(len(graph)):\n",
    "    for j in range(len(graph)):\n",
    "        print(f\"Shortest distance from node {i} to node {j}: {shortest_distances[i][j]}\")\n"
   ]
  },
  {
   "cell_type": "code",
   "execution_count": null,
   "id": "3a538fd2",
   "metadata": {},
   "outputs": [],
   "source": []
  }
 ],
 "metadata": {
  "kernelspec": {
   "display_name": "Python 3 (ipykernel)",
   "language": "python",
   "name": "python3"
  },
  "language_info": {
   "codemirror_mode": {
    "name": "ipython",
    "version": 3
   },
   "file_extension": ".py",
   "mimetype": "text/x-python",
   "name": "python",
   "nbconvert_exporter": "python",
   "pygments_lexer": "ipython3",
   "version": "3.11.5"
  }
 },
 "nbformat": 4,
 "nbformat_minor": 5
}
